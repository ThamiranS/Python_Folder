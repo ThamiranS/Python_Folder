{
  "nbformat": 4,
  "nbformat_minor": 0,
  "metadata": {
    "colab": {
      "provenance": [],
      "gpuType": "T4",
      "authorship_tag": "ABX9TyMx6CT98BLTnamCjHoZwvg2",
      "include_colab_link": true
    },
    "kernelspec": {
      "name": "python3",
      "display_name": "Python 3"
    },
    "language_info": {
      "name": "python"
    },
    "accelerator": "GPU"
  },
  "cells": [
    {
      "cell_type": "markdown",
      "metadata": {
        "id": "view-in-github",
        "colab_type": "text"
      },
      "source": [
        "<a href=\"https://colab.research.google.com/github/ThamiranS/Python_Folder/blob/main/Untitled0.ipynb\" target=\"_parent\"><img src=\"https://colab.research.google.com/assets/colab-badge.svg\" alt=\"Open In Colab\"/></a>"
      ]
    },
    {
      "cell_type": "code",
      "execution_count": null,
      "metadata": {
        "id": "sUP0HubLilhr"
      },
      "outputs": [],
      "source": [
        "import pandas as pd\n",
        "import numpy as np\n",
        "import tensorflow as tf\n",
        "from tensorflow import keras\n",
        "from tensorflow.keras import layers\n",
        "import matplotlib.pyplot as plt"
      ]
    },
    {
      "cell_type": "code",
      "source": [
        "data = pd.read_excel(\"/content/Example1.xlsx\")  # your Excel file\n",
        "X1 = data[\"Input X\"].values              # first feature: x\n",
        "X2 = X1**2                          # second feature: x^2\n",
        "X = np.column_stack((X1, X2))      # combine into 2 features\n",
        "y = data[\"Output Y\"].values"
      ],
      "metadata": {
        "id": "CICmhgdInCYq"
      },
      "execution_count": null,
      "outputs": []
    },
    {
      "cell_type": "code",
      "source": [
        "model = keras.Sequential([\n",
        "    layers.Dense(1, activation=\"relu\", input_shape=(2,)),  # Layer 1: hidden, 4 neurons\n",
        "    layers.Dense(3, activation=\"relu\"),                    # Layer 2: hidden, 3 neurons\n",
        "    layers.Dense(1)                                        # Layer 3: output, 1 neuron\n",
        "])"
      ],
      "metadata": {
        "id": "YxQMxKfBi4zJ"
      },
      "execution_count": null,
      "outputs": []
    },
    {
      "cell_type": "code",
      "source": [
        "learning_rate = 0.01   # customize\n",
        "epochs = 10000       # customize\n",
        "\n",
        "optimizer = keras.optimizers.SGD(learning_rate=learning_rate)\n",
        "model.compile(optimizer=optimizer, loss=\"mse\")\n"
      ],
      "metadata": {
        "id": "OCO-Pavvi9Ly"
      },
      "execution_count": null,
      "outputs": []
    },
    {
      "cell_type": "code",
      "source": [
        "history = model.fit(X, y, epochs=epochs, verbose=0)\n",
        "\n",
        "# ======================\n",
        "# 5. Predictions\n",
        "# ======================\n",
        "y_pred = model.predict(X)"
      ],
      "metadata": {
        "id": "eKFQ8BJOjHec"
      },
      "execution_count": null,
      "outputs": []
    },
    {
      "cell_type": "code",
      "source": [
        "plt.scatter(X[:,0], y, label=\"Actual\", color=\"blue\")\n",
        "plt.scatter(X[:,0], y_pred, label=\"Predicted\", color=\"red\")\n",
        "plt.xlabel(\"x\")\n",
        "plt.ylabel(\"y\")\n",
        "plt.title(\"Actual vs Predicted\")\n",
        "plt.legend()\n",
        "plt.show()"
      ],
      "metadata": {
        "id": "Tz62A3HijPTv"
      },
      "execution_count": null,
      "outputs": []
    },
    {
      "cell_type": "code",
      "source": [
        "plt.plot(history.history[\"loss\"], label=\"Loss\")\n",
        "plt.xlabel(\"Epochs\")\n",
        "plt.ylabel(\"Loss (MSE)\")\n",
        "plt.title(\"Loss vs Iterations\")\n",
        "plt.legend()\n",
        "plt.show()\n"
      ],
      "metadata": {
        "id": "9dRFcvLijTQT"
      },
      "execution_count": null,
      "outputs": []
    },
    {
      "cell_type": "code",
      "source": [
        "for i, layer in enumerate(model.layers):\n",
        "    weights, biases = layer.get_weights()\n",
        "    print(f\"Layer {i+1} Weights:\\n\", weights)\n",
        "    print(f\"Layer {i+1} Biases:\\n\", biases)"
      ],
      "metadata": {
        "id": "ZuHFbzzujXeF"
      },
      "execution_count": null,
      "outputs": []
    }
  ]
}